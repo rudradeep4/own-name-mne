{
 "cells": [
  {
   "cell_type": "code",
   "execution_count": null,
   "metadata": {},
   "outputs": [],
   "source": [
    "import glob\n",
    "import mne \n",
    "import pandas as pd\n",
    "import numpy as np\n",
    "import seaborn as sns\n",
    "import pingouin as pg"
   ]
  },
  {
   "cell_type": "code",
   "execution_count": null,
   "metadata": {},
   "outputs": [],
   "source": [
    "def get_files(subjs, exclude):\n",
    "    \n",
    "    for i in range(len(exclude)):\n",
    "        exclude[i] = f'./analysis/Rise00{exclude[i]}-ave.fif'\n",
    "    \n",
    "    subjs = list(set(subjs) - set(exclude))\n",
    "    \n",
    "    return subjs"
   ]
  },
  {
   "cell_type": "code",
   "execution_count": null,
   "metadata": {},
   "outputs": [],
   "source": [
    "def create_df(subjs, events_id, ch, time_win, peak_func):\n",
    "\n",
    "    data_Pz = []\n",
    "\n",
    "    for subj in subjs:\n",
    "        for event_name in events_id:\n",
    "            evk = mne.read_evokeds(subj, condition=event_name, verbose=False)\n",
    "\n",
    "            evk.pick(ch)\n",
    "\n",
    "            data = evk.data[0][time_win[0]:time_win[1]]\n",
    "\n",
    "            if peak_func == 'auc':\n",
    "                data_Pz.append(np.sum(np.abs(data)))\n",
    "            elif peak_func == 'peak':\n",
    "                data[data < 0] = 0\n",
    "                data_Pz.append(np.amax(data))\n",
    "\n",
    "    subjs_for_df = sorted([int(name[17: 19]) for name in subjs])\n",
    "\n",
    "\n",
    "    df = pd.DataFrame({\n",
    "            'Subject': np.repeat(subjs_for_df, len(events_id)),\n",
    "            'Condition': np.tile(['Neutral', 'Rise', 'Fall'], len(subjs_for_df)),\n",
    "            'uV': data_Pz\n",
    "        })\n",
    "\n",
    "    return df"
   ]
  },
  {
   "cell_type": "code",
   "execution_count": null,
   "metadata": {},
   "outputs": [],
   "source": [
    "evokeds_files = glob.glob('./analysis/Rise*-ave.fif')\n",
    "\n",
    "subjs_all = get_files(evokeds_files, exclude=[])\n",
    "subjs_excl = get_files(evokeds_files, exclude=['2', '3', '22', '25', '33', '34', '36'])\n",
    "\n",
    "df = create_df  (\n",
    "                    subjs_all, \n",
    "                    ['1002', '1003', '1004'], \n",
    "                    'Pz', \n",
    "                    [220, 350], \n",
    "                    'auc'\n",
    "                )"
   ]
  },
  {
   "cell_type": "code",
   "execution_count": null,
   "metadata": {},
   "outputs": [],
   "source": [
    "ax = sns.lineplot(x='Condition', y = 'uV', units= \"Subject\", estimator=None, data = df, alpha=0.3, hue=\"Subject\", legend=False)\n",
    "sns.stripplot(x=\"Condition\", y=\"uV\", hue=\"Condition\", data=df, jitter=False, alpha =0.3)\n",
    "ax = sns.pointplot(x='Condition', y = 'uV', data = df)\n",
    "ax.set_title('CPz AUC between Conditions w Subj. Excl.')\n",
    "sns.despine()"
   ]
  },
  {
   "cell_type": "code",
   "execution_count": null,
   "metadata": {},
   "outputs": [],
   "source": [
    "# Repeated measure ANOVA\n",
    "pg.rm_anova(dv='uV', \n",
    "               within='Condition', \n",
    "               subject=\"Subject\",\n",
    "               data=df,\n",
    "               detailed=True)"
   ]
  },
  {
   "cell_type": "code",
   "execution_count": null,
   "metadata": {},
   "outputs": [],
   "source": [
    "# Paired t-test between Rise & Neutral\n",
    "pg.ttest(x=df[df.Condition=='Rise'].uV, y=df[df.Condition=='Neutral'].uV, paired=True)"
   ]
  },
  {
   "cell_type": "code",
   "execution_count": null,
   "metadata": {},
   "outputs": [],
   "source": [
    "# Paired t-test between Rise & Fall\n",
    "pg.ttest(x=df[df.Condition=='Rise'].uV, y=df[df.Condition=='Fall'].uV, paired=True)"
   ]
  }
 ],
 "metadata": {
  "kernelspec": {
   "display_name": "eelbrain",
   "language": "python",
   "name": "python3"
  },
  "language_info": {
   "codemirror_mode": {
    "name": "ipython",
    "version": 3
   },
   "file_extension": ".py",
   "mimetype": "text/x-python",
   "name": "python",
   "nbconvert_exporter": "python",
   "pygments_lexer": "ipython3",
   "version": "3.10.8 | packaged by conda-forge | (main, Nov 22 2022, 08:16:33) [MSC v.1929 64 bit (AMD64)]"
  },
  "orig_nbformat": 4,
  "vscode": {
   "interpreter": {
    "hash": "99ceff474ddd88436593420339e3865c681551bf0bfe21dd21eebadbb2bc8b2e"
   }
  }
 },
 "nbformat": 4,
 "nbformat_minor": 2
}
