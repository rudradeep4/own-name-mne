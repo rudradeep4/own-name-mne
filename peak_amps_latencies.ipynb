{
 "cells": [
  {
   "cell_type": "code",
   "execution_count": null,
   "metadata": {},
   "outputs": [],
   "source": [
    "import glob\n",
    "import mne \n",
    "import pandas as pd\n",
    "import numpy as np\n",
    "import seaborn as sns\n",
    "import pingouin as pg\n",
    "import statsmodels.api as sm\n",
    "from statsmodels.formula.api import ols"
   ]
  },
  {
   "cell_type": "markdown",
   "metadata": {},
   "source": [
    "#### Get evoked data"
   ]
  },
  {
   "cell_type": "code",
   "execution_count": null,
   "metadata": {},
   "outputs": [],
   "source": [
    "evokeds_files = sorted(glob.glob('./analysis/Rise*-ave.fif'))\n",
    "evks = []\n",
    "\n",
    "for subj in evokeds_files:\n",
    "    evks.append(mne.read_evokeds(subj, condition=None, verbose=False))\n",
    "\n",
    "neutral_combined = mne.combine_evoked([e[1] for e in evks], weights='nave')\n",
    "rise_combined = mne.combine_evoked([e[2] for e in evks], weights='nave')\n",
    "fall_combined = mne.combine_evoked([e[3] for e in evks], weights='nave')\n",
    "\n",
    "all_conds = [neutral_combined, rise_combined, fall_combined]"
   ]
  },
  {
   "cell_type": "markdown",
   "metadata": {},
   "source": [
    "#### Rename channels"
   ]
  },
  {
   "cell_type": "code",
   "execution_count": null,
   "metadata": {},
   "outputs": [],
   "source": [
    "# Replace all channels with proper channel names instead of numbers\n",
    "channel_names_old = neutral_combined.ch_names\n",
    "channel_names_new = ['Fp1','Fz','F3','F7','FT9','FC5','FC1','C3','T7','TP9','CP5','CP1','Pz','P3','P7','O1','Oz','O2','P4','P8','TP10','CP6',\n",
    "                        'CP2','C4','T8','FT10','FC6','FC2','F4','F8','Fp2', 'AF7','AF3','AFz','F1','F5','FT7','FC3','C1','C5','TP7','CP3','P1','P5',\n",
    "                        'PO7','PO3','POz','PO4','PO8','P6','P2','CPz','CP4','TP8','C6','C2','FC4','FT8','F6','AF8','AF4','F2','FCz', 'Cz']\n",
    "channel_dict = dict(zip(channel_names_old, channel_names_new))\n",
    "\n",
    "for cond in all_conds:\n",
    "    mne.rename_channels(cond.info, mapping=channel_dict)"
   ]
  },
  {
   "cell_type": "markdown",
   "metadata": {},
   "source": [
    "#### Peak Latency & Amplitude"
   ]
  },
  {
   "cell_type": "code",
   "execution_count": null,
   "metadata": {},
   "outputs": [],
   "source": [
    "# Function to print out the channel (ch) containing the peak latency and amplitude within the provided time range \n",
    "def print_peak_measures(ch, tmin, tmax, lat, amp):\n",
    "    print(f'Channel: {ch}')\n",
    "    print(f'Time Window: {tmin * 1e3:.3f} - {tmax * 1e3:.3f} ms')\n",
    "    print(f'Peak Latency: {lat * 1e3:.3f} ms')\n",
    "    print(f'Peak Amplitude: {amp * 1e6:.3f} µV')\n",
    "\n",
    "\n",
    "# Get peak amplitude and latency from a good time window that contains the peak\n",
    "def get_peak_measures(cond, ch_type, tmin, tmax):\n",
    "    ch, lat, amp = cond.get_peak(ch_type=ch_type, tmin=tmin, tmax=tmax, mode='abs', return_amplitude=True)\n",
    "    print_peak_measures(ch, tmin, tmax, lat, amp)"
   ]
  },
  {
   "cell_type": "markdown",
   "metadata": {},
   "source": [
    "#### Compare P300 amplitudes & latencies (Pz and CPz)"
   ]
  },
  {
   "cell_type": "code",
   "execution_count": null,
   "metadata": {},
   "outputs": [],
   "source": [
    "chs = ['Pz', 'CPz']\n",
    "\n",
    "for evk in all_conds:\n",
    "    evk.plot(picks=chs, spatial_colors=True, highlight=(200, 400), time_unit='ms', ylim=dict(eeg=[-1.5, 2]))"
   ]
  },
  {
   "cell_type": "markdown",
   "metadata": {},
   "source": [
    "#### Compare Rise & Fall (combined P3, P5, CPz, Pz)"
   ]
  },
  {
   "cell_type": "code",
   "execution_count": null,
   "metadata": {},
   "outputs": [],
   "source": [
    "mne.viz.plot_compare_evokeds(all_conds[1: ], picks=['P3', 'P5', 'CPz', 'Pz'], combine='mean', ci=0.95, legend=False)"
   ]
  }
 ],
 "metadata": {
  "kernelspec": {
   "display_name": "eelbrain",
   "language": "python",
   "name": "python3"
  },
  "language_info": {
   "codemirror_mode": {
    "name": "ipython",
    "version": 3
   },
   "file_extension": ".py",
   "mimetype": "text/x-python",
   "name": "python",
   "nbconvert_exporter": "python",
   "pygments_lexer": "ipython3",
   "version": "3.10.8 | packaged by conda-forge | (main, Nov 22 2022, 08:16:33) [MSC v.1929 64 bit (AMD64)]"
  },
  "orig_nbformat": 4,
  "vscode": {
   "interpreter": {
    "hash": "99ceff474ddd88436593420339e3865c681551bf0bfe21dd21eebadbb2bc8b2e"
   }
  }
 },
 "nbformat": 4,
 "nbformat_minor": 2
}
