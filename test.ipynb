{
 "cells": [
  {
   "cell_type": "code",
   "execution_count": 1,
   "metadata": {},
   "outputs": [],
   "source": [
    "from eelbrain import *"
   ]
  },
  {
   "cell_type": "code",
   "execution_count": 2,
   "metadata": {},
   "outputs": [],
   "source": [
    "ds = datasets.get_uts(utsnd=True)"
   ]
  },
  {
   "cell_type": "code",
   "execution_count": 3,
   "metadata": {},
   "outputs": [],
   "source": [
    "res = testnd.TTestRelated('utsnd', 'A', match='rm', ds=ds)"
   ]
  },
  {
   "cell_type": "code",
   "execution_count": 4,
   "metadata": {},
   "outputs": [
    {
     "name": "stdout",
     "output_type": "stream",
     "text": [
      "id   n_sensors   tstart   tstop   duration   p        sig\n",
      "---------------------------------------------------------\n",
      "1    1           0.46     0.47    0.01       0.004    ** \n",
      "2    1           0.49     0.52    0.03       0.0015   ** \n",
      "3    1           0.53     0.54    0.01       0.0007   ***\n",
      "4    1           0.55     0.56    0.01       0.0003   ***\n",
      "5    1           0.58     0.61    0.03       0.006    ** \n",
      "6    1           0.62     0.64    0.02       0.0031   ** \n",
      "7    1           0.15     0.16    0.01       0.0386   *  \n",
      "8    3           0.19     0.37    0.18       0        ***\n",
      "9    1           0.38     0.4     0.02       0.0256   *  \n",
      "10   1           0.41     0.42    0.01       0.0023   ** \n"
     ]
    }
   ],
   "source": [
    "print(res.find_clusters())"
   ]
  }
 ],
 "metadata": {
  "kernelspec": {
   "display_name": "eelbrain",
   "language": "python",
   "name": "python3"
  },
  "language_info": {
   "codemirror_mode": {
    "name": "ipython",
    "version": 3
   },
   "file_extension": ".py",
   "mimetype": "text/x-python",
   "name": "python",
   "nbconvert_exporter": "python",
   "pygments_lexer": "ipython3",
   "version": "3.10.8"
  },
  "orig_nbformat": 4,
  "vscode": {
   "interpreter": {
    "hash": "99ceff474ddd88436593420339e3865c681551bf0bfe21dd21eebadbb2bc8b2e"
   }
  }
 },
 "nbformat": 4,
 "nbformat_minor": 2
}
