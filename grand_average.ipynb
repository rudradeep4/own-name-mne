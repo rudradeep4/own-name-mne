{
 "cells": [
  {
   "cell_type": "code",
   "execution_count": null,
   "metadata": {},
   "outputs": [],
   "source": [
    "import os\n",
    "import numpy as np\n",
    "import mne\n",
    "import seaborn as sns\n",
    "import matplotlib.pyplot as plt\n",
    "import matplotlib.backends.backend_pdf\n",
    "from itertools import groupby\n",
    "%matplotlib inline\n",
    "import glob"
   ]
  },
  {
   "cell_type": "markdown",
   "metadata": {},
   "source": [
    "#### Grand Average"
   ]
  },
  {
   "cell_type": "code",
   "execution_count": null,
   "metadata": {},
   "outputs": [],
   "source": [
    "def get_grand_average(subjs, outfile, exclude=[]):\n",
    "    standard_subjs = []\n",
    "    neutral_subjs = []\n",
    "    rise_subjs = []\n",
    "    fall_subjs = []\n",
    "\n",
    "    for i in range(len(exclude)):\n",
    "        exclude[i] = f'./analysis/Rise00{exclude[i]}-ave.fif'\n",
    "\n",
    "    subjs = list(set(subjs) - set(exclude))\n",
    "    \n",
    "    # Separate evoked objects of all subjects into different conditions\n",
    "    for subj in subjs:\n",
    "        standard_subjs.append(mne.read_evokeds(subj, condition='1001'))\n",
    "        neutral_subjs.append(mne.read_evokeds(subj, condition='1002'))\n",
    "        rise_subjs.append(mne.read_evokeds(subj, condition='1003'))\n",
    "        fall_subjs.append(mne.read_evokeds(subj, condition='1004'))\n",
    "\n",
    "    # Combine evoked objects in each condition\n",
    "    standard_combined = mne.combine_evoked(standard_subjs, weights='nave')\n",
    "    neutral_combined = mne.combine_evoked(neutral_subjs, weights='nave')\n",
    "    rise_combined = mne.combine_evoked(rise_subjs, weights='nave')\n",
    "    fall_combined = mne.combine_evoked(fall_subjs, weights='nave')\n",
    "\n",
    "    # Save combined evoked objects of all conditions into file\n",
    "    mne.write_evokeds(f'./analysis/{outfile}', [standard_combined, neutral_combined, rise_combined, fall_combined], overwrite=True)\n",
    "\n",
    "    evokeds = dict(standard=standard_combined, neutral=neutral_combined, rise=rise_combined, fall=fall_combined)\n",
    "\n",
    "    return evokeds"
   ]
  },
  {
   "cell_type": "code",
   "execution_count": null,
   "metadata": {},
   "outputs": [],
   "source": [
    "def plot_grand_average(evokeds, outfile, channels=[]):\n",
    "    # Create PDF file in which to save all plots\n",
    "    with matplotlib.backends.backend_pdf.PdfPages(f'./analysis/{outfile}') as pdf:\n",
    "    \n",
    "        for channel in channels:\n",
    "            fig = mne.viz.plot_compare_evokeds(evokeds, picks=channel, combine=None, time_unit='ms', ylim=dict(eeg=[-5, 5]), invert_y=True,\n",
    "                                            colors=dict(standard='black', neutral='red', rise='blue', fall='green'), \n",
    "                                            styles={'standard': {'linewidth': 1}, 'neutral': {'linewidth': 1}, 'rise': {'linewidth': 1}, 'fall': {'linewidth': 1}})\n",
    "            # Save plot to PDF\n",
    "            pdf.savefig(fig[0])\n",
    "            plt.close()"
   ]
  },
  {
   "cell_type": "code",
   "execution_count": null,
   "metadata": {},
   "outputs": [],
   "source": [
    "# Get list of evoked objects of all subjects\n",
    "all_subj_evoked = glob.glob('./analysis/Rise*-ave.fif')\n",
    "\n",
    "# Get grand average of all subjects\n",
    "evokeds = get_grand_average(all_subj_evoked, 'grand-ave.fif', exclude=[])\n",
    "# Get grand average with subjects 22, 25, 33, 34 and 36 excluded\n",
    "evokeds_excluded = get_grand_average(all_subj_evoked, 'excl-grand-ave.fif', exclude=['2', '3', '22', '25', '33', '34', '36'])\n",
    "\n",
    "# Plot channels Fz, Pz, Oz, AFz, POz, CPz, FCz, Cz for all subjects\n",
    "plot_grand_average(evokeds, 'grand-ave-plots.pdf', channels=['Fz', 'Pz', 'Oz', 'AFz', 'POz', 'CPz', 'FCz', 'Cz'])\n",
    "# Plot channels Fz, Pz, Oz, AFz, POz, CPz, FCz, Cz for all subjects excluding 22, 25, 33, 34 and 36\n",
    "plot_grand_average(evokeds_excluded, 'excl-grand-ave.fif', channels=['Fz', 'Pz', 'Oz', 'AFz', 'POz', 'CPz', 'FCz', 'Cz'])"
   ]
  }
 ],
 "metadata": {
  "kernelspec": {
   "display_name": "Python 3.10.8 ('eelbrain')",
   "language": "python",
   "name": "python3"
  },
  "language_info": {
   "codemirror_mode": {
    "name": "ipython",
    "version": 3
   },
   "file_extension": ".py",
   "mimetype": "text/x-python",
   "name": "python",
   "nbconvert_exporter": "python",
   "pygments_lexer": "ipython3",
   "version": "3.10.8"
  },
  "orig_nbformat": 4,
  "vscode": {
   "interpreter": {
    "hash": "99ceff474ddd88436593420339e3865c681551bf0bfe21dd21eebadbb2bc8b2e"
   }
  }
 },
 "nbformat": 4,
 "nbformat_minor": 2
}
